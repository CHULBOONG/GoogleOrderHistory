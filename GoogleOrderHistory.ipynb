{
 "cells": [
  {
   "cell_type": "code",
   "execution_count": null,
   "id": "d4de971f",
   "metadata": {},
   "outputs": [],
   "source": [
    "pip install selenium"
   ]
  },
  {
   "cell_type": "code",
   "execution_count": null,
   "id": "0537c019",
   "metadata": {},
   "outputs": [],
   "source": [
    "pip install webdriver_mamager"
   ]
  },
  {
   "cell_type": "code",
   "execution_count": null,
   "id": "76da0b7e",
   "metadata": {},
   "outputs": [],
   "source": [
    "pip install undetected_chromedriver"
   ]
  },
  {
   "cell_type": "code",
   "execution_count": null,
   "id": "ec161704",
   "metadata": {},
   "outputs": [],
   "source": [
    "pip install chromedriver_autoinstaller"
   ]
  },
  {
   "cell_type": "code",
   "execution_count": null,
   "id": "375fca63",
   "metadata": {},
   "outputs": [],
   "source": [
    "pip install pyautogui"
   ]
  },
  {
   "cell_type": "code",
   "execution_count": null,
   "id": "ed0b5485",
   "metadata": {},
   "outputs": [],
   "source": [
    "pip install openpyxl"
   ]
  },
  {
   "cell_type": "code",
   "execution_count": null,
   "id": "04ed2a71",
   "metadata": {},
   "outputs": [],
   "source": [
    "import time\n",
    "from selenium import webdriver\n",
    "from selenium.webdriver.chrome.options import Options\n",
    "import chromedriver_autoinstaller\n",
    "import subprocess\n",
    "import shutil\n",
    "import pyautogui"
   ]
  },
  {
   "cell_type": "code",
   "execution_count": null,
   "id": "d6a53a3e",
   "metadata": {},
   "outputs": [],
   "source": [
    "#google.txt에서 아디 비번 실시간으로 받아옴\n",
    "print(\"google 텍스트 문서에서 아이디와 비밀번호, 저장할 파일 이름 정보를 가져옵니다.\\n\")\n",
    "f=open('google.txt','r', encoding='UTF8') #한글 가능\n",
    "line = f.readlines()\n",
    "google_idraw = line[1]\n",
    "google_id = google_idraw.replace('\\n','')\n",
    "google_pwraw = line[3]\n",
    "google_pw = google_pwraw.replace('\\n','')\n",
    "color_code_raw = line[5]\n",
    "color_code = color_code_raw.replace('\\n','')\n",
    "filename = line[7]\n",
    "print(\"크롤링 할 구글 아이디 : \" + google_id + \"\\n크롤링 할 구글 아이디의 비밀번호 : \" + google_pw + \"\\n\" )\n",
    "print(\"파일 이름은 : \" + filename + \".xlsx로 저장될 예정입니다.\\n\" )\n",
    "print(\"시작 전 모든 크롬 창을 닫고 진행하시는 것을 권장드립니다. 혹은 새 창이 생기면 빠르게 새 창을 클릭해주세요.\\n\")"
   ]
  },
  {
   "cell_type": "code",
   "execution_count": null,
   "id": "f410b8e7",
   "metadata": {},
   "outputs": [],
   "source": [
    "#구글 로그인 우회\n",
    "try:\n",
    "    shutil.rmtree(r\"C:\\chrometemp\")  # remove Cookie, Cache files\n",
    "except FileNotFoundError:\n",
    "    pass\n",
    "\n",
    "try:\n",
    "    subprocess.Popen(r'C:\\Program Files\\Google\\Chrome\\Application\\chrome.exe --remote-debugging-port=9222 '\n",
    "                     r'--user-data-dir=\"C:\\chrometemp\"')   # Open the debugger chrome\n",
    "    \n",
    "except FileNotFoundError:\n",
    "    print('error')\n",
    "\n",
    "option = Options()\n",
    "option.add_experimental_option(\"debuggerAddress\", \"127.0.0.1:9222\")\n",
    "\n",
    "chrome_ver = chromedriver_autoinstaller.get_chrome_version().split('.')[0]\n",
    "try:\n",
    "    driver = webdriver.Chrome(f'./{chrome_ver}/chromedriver.exe', options=option)\n",
    "    \n",
    "except:\n",
    "    chromedriver_autoinstaller.install(True)\n",
    "    driver = webdriver.Chrome(f'./{chrome_ver}/chromedriver.exe', options=option)\n",
    "driver.implicitly_wait(10)\n",
    "\n",
    "driver.get(\n",
    "    url='https://accounts.google.com/signin/chrome/sync/identifier?ssp=1&continue=https%3A%2F%2Fwww.google.com%2F&flowName=GlifDesktopChromeSync')\n",
    "# 구글 로그인 페이지 긁어온거\n",
    "driver.switch_to.window(driver.window_handles[-1]) # 최근 열린 탭으로 전환\n",
    "\n",
    "pyautogui.write(google_id)    # 메모장의 아이디 부분\n",
    "pyautogui.press('tab', presses=3)\n",
    "pyautogui.press('enter')\n",
    "time.sleep(3)\n",
    "pyautogui.write(google_pw)   # 메모장의 비밀번호 부분\n",
    "pyautogui.press('enter')\n",
    "\n",
    "time.sleep(3)\n",
    "import requests\n",
    "from selenium.webdriver.common.by import By\n",
    "from bs4 import BeautifulSoup\n",
    "import openpyxl\n",
    "from openpyxl.styles import Color, PatternFill\n",
    "\n",
    "#EXcel Sheet 생성\n",
    "wb = openpyxl.Workbook()\n",
    "\n",
    "sheet = wb.active\n",
    "sheet.append([\"날짜\", \"결제 계정\", \"상품명\", \"화폐 단위\", \"금액\"])\n",
    "#맨 윗줄 셀 색칠하기\n",
    "a1 = sheet['A1']\n",
    "b1 = sheet['B1']\n",
    "c1 = sheet['C1']\n",
    "d1 = sheet['D1']\n",
    "e1 = sheet['E1']\n",
    "a1.fill = PatternFill(fill_type='solid',\n",
    "                      fgColor=Color(color_code))\n",
    "b1.fill = PatternFill(fill_type='solid',\n",
    "                      fgColor=Color(color_code))\n",
    "c1.fill = PatternFill(fill_type='solid',\n",
    "                      fgColor=Color(color_code))\n",
    "d1.fill = PatternFill(fill_type='solid',\n",
    "                      fgColor=Color(color_code))\n",
    "e1.fill = PatternFill(fill_type='solid',\n",
    "                      fgColor=Color(color_code))\n",
    "\n",
    "raw = driver.get(\"https://play.google.com/store/account/orderhistory\")\n",
    "\n",
    "time.sleep(3)\n",
    "\n",
    "# body태그의 내부 HTML 코드를 가져오고 그 코드를 BeautifulSoup로 파싱한다.\n",
    "htmlText = driver.find_element(By.TAG_NAME, 'body').get_attribute('innerHTML')\n",
    "html = BeautifulSoup(htmlText, 'html.parser')\n",
    "\n",
    "# data-item-type 속성을 가진 div 태그들을 가져온다.\n",
    "container = html.select(\"div[data-item-type]\")\n",
    "\n",
    "# 정규표현식 이용\n",
    "# * ([^0-9\\\\.]+) 뜻 : 숫자와 온점이 \"아닌\" 모든 문자들의 집합\n",
    "# * ([0-9\\\\.,]+) 뜻 : 숫자와 온점 콤마\"으로만\" 이루어진 모든 문자들의 집합\n",
    "import re\n",
    "pricePattern = re.compile(\"([^0-9\\\\.]+)([0-9\\\\.,]+)\")\n",
    "\n",
    "for con in container:\n",
    "    a = con.select_one(\".V8HwNc\").text.strip() #날짜\n",
    "    b = google_id # 결제 계정\n",
    "    c = con.select_one(\".XqqpEd\").text.strip() #상품명\n",
    "    raw_cash = con.select_one(\".mshXob\").text.strip() #화폐 단위 + 금액\n",
    "    strings = pricePattern.match(raw_cash).groups() # CA$17.99 라고 받는다 치면 앞뒤로 나눔\n",
    "    d = strings[0]\n",
    "    e = strings[1]\n",
    "    \n",
    "    # sheet 내 각 행에 데이터 추가\n",
    "    sheet.append([a, b, c, d, e])\n",
    "\n",
    "wb.save(filename +\".xlsx\")\n",
    "print(\"크롤링 성공\")"
   ]
  },
  {
   "cell_type": "code",
   "execution_count": null,
   "id": "a256928c",
   "metadata": {},
   "outputs": [],
   "source": []
  },
  {
   "cell_type": "code",
   "execution_count": null,
   "id": "28531345",
   "metadata": {},
   "outputs": [],
   "source": []
  },
  {
   "cell_type": "code",
   "execution_count": null,
   "id": "a3343af5",
   "metadata": {},
   "outputs": [],
   "source": []
  }
 ],
 "metadata": {
  "kernelspec": {
   "display_name": "Python 3 (ipykernel)",
   "language": "python",
   "name": "python3"
  },
  "language_info": {
   "codemirror_mode": {
    "name": "ipython",
    "version": 3
   },
   "file_extension": ".py",
   "mimetype": "text/x-python",
   "name": "python",
   "nbconvert_exporter": "python",
   "pygments_lexer": "ipython3",
   "version": "3.9.13"
  }
 },
 "nbformat": 4,
 "nbformat_minor": 5
}
